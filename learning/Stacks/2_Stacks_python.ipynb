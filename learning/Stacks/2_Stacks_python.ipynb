{
 "cells": [
  {
   "cell_type": "markdown",
   "id": "df75ef87-3d5a-41e5-9fc1-61afdde77929",
   "metadata": {},
   "source": [
    "# 2 Pilas en Python\n",
    "\n",
    "Ya comprendes cómo funcionan las pilas en teoría, así que ahora veamos cómo pueden ser útiles en la práctica.\n",
    "\n",
    "Recuerda que hay tres métodos principales que queremos que tengan nuestras pilas:\n",
    "- `Push`: agrega datos a la \"parte superior\" de la pila.\n",
    "- `Pop`: proporciona y elimina datos de la \"parte superior\" de la pila.\n",
    "- `Peek`: proporciona datos de la \"parte superior\" de la pila sin eliminarlos.\n",
    "\n",
    "También debemos considerar el tamaño de la pila y ajustar un poco nuestros métodos para que nuestra pila no se \"desborde\".\n",
    "\n",
    "Comencemos a construir nuestra clase Stack.\n",
    "\n",
    "1. Dentro de stack_sandbox.py ([abrir stack_sandbox.py](stack_sandbox.py)), crea una clase `Stack`.\n",
    "2. Define un método `__init__()` para `Stack`. Dentro del método, establece una propiedad de instancia `top_item` igual a `None`.\n",
    "3. Debajo de `__init__()`, define otro método `peek()` que devuelva el valor del elemento superior de la pila utilizando el método `get_value()` de la clase `Node`.\n",
    "\n",
    "Despues de completar la actividad de arriba debes verificar tu avance corriendo el test correspodiente ejecutando la siguiente linea de codigo en una celda de codigo.\n",
    "\n",
    "`!python3 -m unittest Test_1_init.py`\n"
   ]
  },
  {
   "cell_type": "code",
   "execution_count": 1,
   "id": "942ecd2c-3acd-412f-a250-39fbff42d6d2",
   "metadata": {},
   "outputs": [
    {
     "name": "stdout",
     "output_type": "stream",
     "text": [
      "The file start_from.txt was not found.\n",
      "Running from students' code\n"
     ]
    },
    {
     "name": "stderr",
     "output_type": "stream",
     "text": [
      "WARNING:root:Pila inicializada: top_item es None\n",
      "WARNING:root:Intento de ver el elemento superior en una pila vacía.\n",
      ".WARNING:root:Pila inicializada: top_item es None\n",
      "WARNING:root:El elemento superior de la pila es: 20\n",
      ".WARNING:root:Pila inicializada: top_item es None\n",
      "WARNING:root:El elemento superior de la pila es: 10\n",
      ".\n",
      "----------------------------------------------------------------------\n",
      "Ran 3 tests in 0.001s\n",
      "\n",
      "OK\n"
     ]
    }
   ],
   "source": [
    "!python3 -m unittest Test_1_init.py"
   ]
  },
  {
   "cell_type": "markdown",
   "id": "f32ed760-fb28-437a-896f-d521927af0c0",
   "metadata": {},
   "source": [
    "## 2.1 Metodos `Push()` y `Pop()`\n",
    "\n",
    "Los métodos `push()` y `pop()` de la pila son nuestras herramientas para agregar y quitar elementos de ella. `pop()` también devuelve el valor del elemento que está quitando. Ten en cuenta que solo podemos hacer modificaciones en la parte superior de la pila.\n",
    "\n",
    "1. Debajo de `__init__()`, define un método `push()` para `Stack` que toma `value` como parámetro. \n",
    "2. Dentro del método `__init__()` crea una instancia de `Node` con `value` como argumento y asígnalo a la variable `item` (dado que `item` es un nodo, tenemos fácil acceso a los métodos de clase de `Node`).\n",
    "3. Inicializa  el nodo siguiente de `item` igual al `top_item` actual de la pila usando el método  `set_next_node()`de la clase `Node`.\n",
    "4. Establece el `top_item` de la instancia de la pila igual al nuevo `item`, agregándolo a la parte superior de la pila\n",
    "5. Debajo de `push()`, define un método `pop()` para `Stack`. \n",
    "6. Dentro de `pop()` crea una variable `item_to_remove` y configúrala igual al `top_item` de la pila.\n",
    "7. Si eliminas el `top_item` de la pila, ¡necesitas establecer un nuevo `top_item`!. Inicializa el `top_item` igual al siguiente nodo despues de `item_to_remove` y devuelve el valor almacenado en `item_to_remove`.\n",
    "\n",
    "Despues de completar la actividad de arriba debes verificar tu avance corriendo el test correspodiente ejecutando la siguiente linea de codigo en una celda de codigo.\n",
    "\n",
    "`!python3 -m unittest Test_2_push_pop.py`\n"
   ]
  },
  {
   "cell_type": "code",
   "execution_count": 2,
   "id": "1c2fa7b7-2fef-4206-8aef-f0fdbf34a349",
   "metadata": {},
   "outputs": [
    {
     "name": "stdout",
     "output_type": "stream",
     "text": [
      "The file start_from.txt was not found.\n",
      "Running from students' code\n"
     ]
    },
    {
     "name": "stderr",
     "output_type": "stream",
     "text": [
      "WARNING:root:Pila inicializada: top_item es None\n",
      "WARNING:root:Agregando valor 10 a la pila.\n",
      "WARNING:root:Elemento 10 agregado. Ahora es el elemento superior de la pila.\n",
      "WARNING:root:Agregando valor 20 a la pila.\n",
      "WARNING:root:Elemento 20 agregado. Ahora es el elemento superior de la pila.\n",
      "WARNING:root:Agregando valor 30 a la pila.\n",
      "WARNING:root:Elemento 30 agregado. Ahora es el elemento superior de la pila.\n",
      "WARNING:root:Eliminando elemento 30 de la pila.\n",
      "WARNING:root:El elemento superior de la pila es: 20\n",
      "WARNING:root:Eliminando elemento 20 de la pila.\n",
      "WARNING:root:El elemento superior de la pila es: 10\n",
      "WARNING:root:Eliminando elemento 10 de la pila.\n",
      "WARNING:root:Intento de ver el elemento superior en una pila vacía.\n",
      ".WARNING:root:Pila inicializada: top_item es None\n",
      "WARNING:root:Agregando valor 10 a la pila.\n",
      "WARNING:root:Elemento 10 agregado. Ahora es el elemento superior de la pila.\n",
      "WARNING:root:Eliminando elemento 10 de la pila.\n",
      "WARNING:root:Intento de ver el elemento superior en una pila vacía.\n",
      ".WARNING:root:Pila inicializada: top_item es None\n",
      "WARNING:root:Agregando valor 10 a la pila.\n",
      "WARNING:root:Elemento 10 agregado. Ahora es el elemento superior de la pila.\n",
      "WARNING:root:Agregando valor 20 a la pila.\n",
      "WARNING:root:Elemento 20 agregado. Ahora es el elemento superior de la pila.\n",
      "WARNING:root:Eliminando elemento 20 de la pila.\n",
      "WARNING:root:Agregando valor 30 a la pila.\n",
      "WARNING:root:Elemento 30 agregado. Ahora es el elemento superior de la pila.\n",
      "WARNING:root:El elemento superior de la pila es: 30\n",
      "WARNING:root:Eliminando elemento 30 de la pila.\n",
      "WARNING:root:Eliminando elemento 10 de la pila.\n",
      "WARNING:root:Intento de ver el elemento superior en una pila vacía.\n",
      ".WARNING:root:Pila inicializada: top_item es None\n",
      "WARNING:root:Agregando valor 10 a la pila.\n",
      "WARNING:root:Elemento 10 agregado. Ahora es el elemento superior de la pila.\n",
      "WARNING:root:Agregando valor 20 a la pila.\n",
      "WARNING:root:Elemento 20 agregado. Ahora es el elemento superior de la pila.\n",
      "WARNING:root:Agregando valor 30 a la pila.\n",
      "WARNING:root:Elemento 30 agregado. Ahora es el elemento superior de la pila.\n",
      "WARNING:root:El elemento superior de la pila es: 30\n",
      ".WARNING:root:Pila inicializada: top_item es None\n",
      "WARNING:root:Agregando valor 10 a la pila.\n",
      "WARNING:root:Elemento 10 agregado. Ahora es el elemento superior de la pila.\n",
      "WARNING:root:El elemento superior de la pila es: 10\n",
      ".\n",
      "----------------------------------------------------------------------\n",
      "Ran 5 tests in 0.003s\n",
      "\n",
      "OK\n"
     ]
    }
   ],
   "source": [
    "!python3 -m unittest Test_2_push_pop.py"
   ]
  },
  {
   "cell_type": "markdown",
   "id": "09f24f00-7141-4935-a341-e39491777559",
   "metadata": {},
   "source": [
    "## 2.2 Tamaño de la pila\n",
    "\n",
    "En el caso de las pilas, el tamaño importa. Si no tenemos cuidado, podemos llenarlas accidentalmente con datos. Como no queremos que se desborden, debemos volver atrás y hacer algunas modificaciones a nuestros métodos que nos ayuden a rastrear y limitar el tamaño de la pila para que podamos mantenerlas en buen estado.\n",
    "\n",
    "- ¿Qué hacemos si alguien intenta hacer `peek()` o `pop()` cuando nuestra pila está vacía?\n",
    "- ¿Cómo evitamos que alguien haga `push()` a una pila que ya alcanzó su límite?\n",
    "- ¿Cómo sabemos qué tan grande se ha vuelto nuestra pila?\n",
    "\n",
    "1. En `__init__()`, agregua dos nuevas propiedades: `size` y `limit`. `limit` debe aceptarse como parámetro con un valor predeterminado de `1000`. Dentro del método, inicializa la propiedad `limit` con el valor pasado en `limit`.\n",
    "2. Inicializa `size` a  0 en `__init__()`.\n",
    "3. En `peek()` y `pop()`, \"envuelve\" el cuerpo actual de cada método en una condicion `if` que verifique si el tamaño de la pila es mayor que 0.\n",
    "4. Al final de cada método, fuera de la condicion `if`, agrega una condicion `else` con una declaración `print(\"La pila esta llena!\")` para que los usuarios sepan que la pila está vacía.\n",
    "5. En `pop()`, justo antes del  `return`, reduce el tamaño de la pila en 1.\n",
    "\n",
    "## 2.3 Metodos de ayuda\n",
    "\n",
    "En primer lugar, queremos un metodo que compruebe si nuestra pila tiene espacio para más elementos. Podemos utilizar esto en `push()` para evitar que se introduzcan elementos en nuestra pila cuando esté llena.\n",
    "\n",
    "En segundo lugar, es útil tener un metodo que compruebe si la pila está vacía.\n",
    "\n",
    "1. Define un nuevo método `has_space()` dentro de la clase `Stack`. El método debe devolver `True` si `self.limit` es mayor que `self.size`.\n",
    "2. Vuelve a tu método `push()`: debes asegurarte de que estas haciendo un seguimiento del tamaño de la pila cuando agregas nuevos elementos. Al final del cuerpo de tu método, incrementa `self.size` en 1.\n",
    "3. Ahora agrega una condicion `if` en la parte superior de `push()` que verifique si tu pila tiene espacio (usando tu método auxiliar recién creado).\n",
    "4. Si hay espacio, el resto del cuerpo del método debe ejecutarse.\n",
    "5. Si no hay espacio, queremos imprimir un mensaje que les permita a los usuarios saber que la pila ya está llena. Algo como \"La pila esta llena ¡No queda espacio!\" debería ser suficiente.\n",
    "6. Finalmente, define un nuevo método `is_empty()` dentro de la clase `Stack`. El método debe devolver `True` si el tamaño de la pila es 0.\n",
    "7. En cualquier lugar donde hayas escrito `if self.size > 0:` ahora se puede reemplazar con `if not self.is_empty():` para aprovechar el metodo `is_empty()`.\n",
    "\n",
    "Despues de completar la actividad de arriba debes verificar tu avance corriendo el test correspodiente ejecutando la siguiente linea de codigo en una celda de codigo.\n",
    "\n",
    "`!python3 -m unittest Test_3_size_limit.py`"
   ]
  },
  {
   "cell_type": "code",
   "execution_count": 3,
   "id": "8284b8f6-e856-4a04-9ad7-99a0fce2c3b6",
   "metadata": {},
   "outputs": [
    {
     "name": "stdout",
     "output_type": "stream",
     "text": [
      "The file start_from.txt was not found."
     ]
    },
    {
     "name": "stderr",
     "output_type": "stream",
     "text": [
      "WARNING:root:Pila inicializada: tamaño actual es 0, límite es 3.\n",
      "WARNING:root:Agregando valor 10 a la pila.\n",
      "WARNING:root:Elemento 10 agregado. Ahora es el elemento superior de la pila. Tamaño actual: 1.\n",
      "WARNING:root:Agregando valor 20 a la pila.\n",
      "WARNING:root:Elemento 20 agregado. Ahora es el elemento superior de la pila. Tamaño actual: 2.\n",
      "WARNING:root:Agregando valor 30 a la pila.\n",
      "WARNING:root:Elemento 30 agregado. Ahora es el elemento superior de la pila. Tamaño actual: 3.\n",
      ".WARNING:root:Pila inicializada: tamaño actual es 0, límite es 3.\n",
      "WARNING:root:Agregando valor 10 a la pila.\n",
      "WARNING:root:Elemento 10 agregado. Ahora es el elemento superior de la pila. Tamaño actual: 1.\n",
      "WARNING:root:Eliminando elemento 10 de la pila.\n",
      "WARNING:root:Elemento eliminado. Tamaño actual de la pila: 0.\n",
      ".WARNING:root:Pila inicializada: tamaño actual es 0, límite es 3.\n",
      "FWARNING:root:Pila inicializada: tamaño actual es 0, límite es 3.\n",
      "WARNING:root:Agregando valor 10 a la pila.\n",
      "WARNING:root:Elemento 10 agregado. Ahora es el elemento superior de la pila. Tamaño actual: 1.\n",
      "WARNING:root:Agregando valor 20 a la pila.\n",
      "WARNING:root:Elemento 20 agregado. Ahora es el elemento superior de la pila. Tamaño actual: 2.\n",
      "WARNING:root:Agregando valor 30 a la pila.\n",
      "WARNING:root:Elemento 30 agregado. Ahora es el elemento superior de la pila. Tamaño actual: 3.\n",
      "WARNING:root:Eliminando elemento 30 de la pila.\n",
      "WARNING:root:Elemento eliminado. Tamaño actual de la pila: 2.\n",
      "WARNING:root:Eliminando elemento 20 de la pila.\n",
      "WARNING:root:Elemento eliminado. Tamaño actual de la pila: 1.\n",
      "WARNING:root:Eliminando elemento 10 de la pila.\n",
      "WARNING:root:Elemento eliminado. Tamaño actual de la pila: 0.\n",
      "FWARNING:root:Pila inicializada: tamaño actual es 0, límite es 3.\n",
      "WARNING:root:Agregando valor 10 a la pila.\n",
      "WARNING:root:Elemento 10 agregado. Ahora es el elemento superior de la pila. Tamaño actual: 1.\n",
      "WARNING:root:Agregando valor 20 a la pila.\n",
      "WARNING:root:Elemento 20 agregado. Ahora es el elemento superior de la pila. Tamaño actual: 2.\n",
      "WARNING:root:Agregando valor 30 a la pila.\n",
      "WARNING:root:Elemento 30 agregado. Ahora es el elemento superior de la pila. Tamaño actual: 3.\n",
      "WARNING:root:Eliminando elemento 30 de la pila.\n",
      "WARNING:root:Elemento eliminado. Tamaño actual de la pila: 2.\n",
      "WARNING:root:El elemento superior de la pila es: 20\n",
      ".WARNING:root:Pila inicializada: tamaño actual es 0, límite es 3.\n",
      "WARNING:root:Agregando valor 10 a la pila.\n",
      "WARNING:root:Elemento 10 agregado. Ahora es el elemento superior de la pila. Tamaño actual: 1.\n",
      "WARNING:root:Agregando valor 20 a la pila.\n",
      "WARNING:root:Elemento 20 agregado. Ahora es el elemento superior de la pila. Tamaño actual: 2.\n",
      "WARNING:root:Agregando valor 30 a la pila.\n",
      "WARNING:root:Elemento 30 agregado. Ahora es el elemento superior de la pila. Tamaño actual: 3.\n",
      "FWARNING:root:Pila inicializada: tamaño actual es 0, límite es 3.\n",
      "WARNING:root:Agregando valor 10 a la pila.\n",
      "WARNING:root:Elemento 10 agregado. Ahora es el elemento superior de la pila. Tamaño actual: 1.\n",
      "WARNING:root:Agregando valor 20 a la pila.\n",
      "WARNING:root:Elemento 20 agregado. Ahora es el elemento superior de la pila. Tamaño actual: 2.\n",
      "WARNING:root:Agregando valor 30 a la pila.\n",
      "WARNING:root:Elemento 30 agregado. Ahora es el elemento superior de la pila. Tamaño actual: 3.\n",
      "WARNING:root:El elemento superior de la pila es: 30\n",
      ".\n",
      "======================================================================\n",
      "FAIL: test_peek_empty_stack (Test_3_size_limit.TestStack.test_peek_empty_stack)\n",
      "Test peek on an empty stack.\n",
      "----------------------------------------------------------------------\n",
      "Traceback (most recent call last):\n",
      "  File \"c:\\Users\\dl923\\Documents\\cursodsa-Remedial\\learning\\Stacks\\Test_3_size_limit.py\", line 63, in test_peek_empty_stack\n",
      "    self.assertIn(\"La pila esta totalmente vacia!\", log.output[0])  # Expect warning\n",
      "    ^^^^^^^^^^^^^^^^^^^^^^^^^^^^^^^^^^^^^^^^^^^^^^^^^^^^^^^^^^^^^^\n",
      "AssertionError: 'La pila esta totalmente vacia!' not found in 'WARNING:root:Intento de ver el elemento superior en una pila vacía.'\n",
      "\n",
      "======================================================================\n",
      "FAIL: test_pop_until_empty (Test_3_size_limit.TestStack.test_pop_until_empty)\n",
      "Test popping all elements until the stack is empty.\n",
      "----------------------------------------------------------------------\n",
      "Traceback (most recent call last):\n",
      "  File \"c:\\Users\\dl923\\Documents\\cursodsa-Remedial\\learning\\Stacks\\Test_3_size_limit.py\", line 55, in test_pop_until_empty\n",
      "    self.assertIn(\"La pila esta totalmente vacia!\", log.output[0])  # Expect a warning\n",
      "    ^^^^^^^^^^^^^^^^^^^^^^^^^^^^^^^^^^^^^^^^^^^^^^^^^^^^^^^^^^^^^^\n",
      "AssertionError: 'La pila esta totalmente vacia!' not found in 'WARNING:root:Intento de eliminar un elemento de una pila vacía.'\n",
      "\n",
      "======================================================================\n",
      "FAIL: test_push_beyond_limit (Test_3_size_limit.TestStack.test_push_beyond_limit)\n",
      "Test pushing elements beyond the stack limit.\n",
      "----------------------------------------------------------------------\n",
      "Traceback (most recent call last):\n",
      "  File \"c:\\Users\\dl923\\Documents\\cursodsa-Remedial\\learning\\Stacks\\Test_3_size_limit.py\", line 31, in test_push_beyond_limit\n",
      "    self.assertIn(\"La pila esta llena ¡No queda espacio!\", log.output[0])  # Expect a warning\n",
      "    ^^^^^^^^^^^^^^^^^^^^^^^^^^^^^^^^^^^^^^^^^^^^^^^^^^^^^^^^^^^^^^^^^^^^^\n",
      "AssertionError: 'La pila esta llena ¡No queda espacio!' not found in 'WARNING:root:Intento de agregar 40 a una pila llena.'\n",
      "\n",
      "----------------------------------------------------------------------\n",
      "Ran 7 tests in 0.016s\n",
      "\n",
      "FAILED (failures=3)\n"
     ]
    },
    {
     "name": "stdout",
     "output_type": "stream",
     "text": [
      "\n",
      "Running from students' code\n",
      "La pila está vacía. No se puede realizar peek.\n",
      "La pila está vacía. No se puede realizar pop.\n",
      "La pila está llena. ¡No queda espacio!\n"
     ]
    }
   ],
   "source": [
    "!python3 -m unittest Test_3_size_limit.py"
   ]
  }
 ],
 "metadata": {
  "kernelspec": {
   "display_name": "Python 3",
   "language": "python",
   "name": "python3"
  },
  "language_info": {
   "codemirror_mode": {
    "name": "ipython",
    "version": 3
   },
   "file_extension": ".py",
   "mimetype": "text/x-python",
   "name": "python",
   "nbconvert_exporter": "python",
   "pygments_lexer": "ipython3",
   "version": "3.12.7"
  }
 },
 "nbformat": 4,
 "nbformat_minor": 5
}
